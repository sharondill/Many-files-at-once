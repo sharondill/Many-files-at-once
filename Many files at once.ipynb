{
 "cells": [
  {
   "cell_type": "markdown",
   "metadata": {},
   "source": [
    "<div class=\"alert alert-block alert-warning\">\n",
    "\n",
    "## Reading many files at once\n",
    "#### The challenge is that you have many files, with the same format, to load into your notebook and you want to append the files together into one dataframe.\n",
    "\n",
    "#### In this example, we will read in each csv file and use part of the name to populate a column in the dataframe to differentiate the files.\n",
    "    \n",
    "</div>"
   ]
  },
  {
   "cell_type": "code",
   "execution_count": null,
   "metadata": {},
   "outputs": [],
   "source": [
    "# ----------------------------------------------------------\n",
    "# Dr. Sharon Dill\n",
    "# May 2022\n",
    "# ---------------------------------------------------------"
   ]
  },
  {
   "attachments": {
    "image.png": {
     "image/png": "[encoded data removed]"
    }
   },
   "cell_type": "markdown",
   "metadata": {},
   "source": [
    "This data is a subset of data collected from Facebook ads data that can be found at: https://www.facebook.com/ads/library/report/?source=nav-header\n",
    "\n",
    "This code will show:\n",
    "- Use glob to read in each csv file which contains data for one state. \n",
    "- Append the data together. \n",
    "- Use the state name from the name of the csv file to populate a State column in the dataframe.\n",
    "\n",
    "![image.png](attachment:image.png)"
   ]
  },
  {
   "cell_type": "code",
   "execution_count": 1,
   "metadata": {},
   "outputs": [],
   "source": [
    "# import libraries\n",
    "import pandas as pd\n",
    "import glob"
   ]
  },
  {
   "cell_type": "code",
   "execution_count": 2,
   "metadata": {},
   "outputs": [
    {
     "data": {
      "text/plain": [
       "['FacebookAdLibraryReport_2022-05-26_US_last_90_days_Alabama.csv',\n",
       " 'FacebookAdLibraryReport_2022-05-26_US_last_90_days_Alaska.csv',\n",
       " 'FacebookAdLibraryReport_2022-05-26_US_last_90_days_American Samoa.csv',\n",
       " 'FacebookAdLibraryReport_2022-05-26_US_last_90_days_Arizona.csv',\n",
       " 'FacebookAdLibraryReport_2022-05-26_US_last_90_days_Arkansas.csv',\n",
       " 'FacebookAdLibraryReport_2022-05-26_US_last_90_days_California.csv',\n",
       " 'FacebookAdLibraryReport_2022-05-26_US_last_90_days_Colorado.csv']"
      ]
     },
     "execution_count": 2,
     "metadata": {},
     "output_type": "execute_result"
    }
   ],
   "source": [
    "# use glob to read in all csv in current directory\n",
    "filenames = glob.glob('*.csv')\n",
    "\n",
    "filenames"
   ]
  },
  {
   "cell_type": "code",
   "execution_count": 3,
   "metadata": {
    "scrolled": false
   },
   "outputs": [
    {
     "name": "stdout",
     "output_type": "stream",
     "text": [
      "FacebookAdLibraryReport_2022-05-26_US_last_90_days_Alabama.csv\n",
      "Alabama\n",
      "FacebookAdLibraryReport_2022-05-26_US_last_90_days_Alaska.csv\n",
      "Alaska\n",
      "FacebookAdLibraryReport_2022-05-26_US_last_90_days_American Samoa.csv\n",
      "American Samoa\n",
      "FacebookAdLibraryReport_2022-05-26_US_last_90_days_Arizona.csv\n",
      "Arizona\n",
      "FacebookAdLibraryReport_2022-05-26_US_last_90_days_Arkansas.csv\n",
      "Arkansas\n",
      "FacebookAdLibraryReport_2022-05-26_US_last_90_days_California.csv\n",
      "California\n",
      "FacebookAdLibraryReport_2022-05-26_US_last_90_days_Colorado.csv\n",
      "Colorado\n",
      "<class 'pandas.core.frame.DataFrame'>\n",
      "RangeIndex: 73582 entries, 0 to 73581\n",
      "Data columns (total 6 columns):\n",
      " #   Column              Non-Null Count  Dtype \n",
      "---  ------              --------------  ----- \n",
      " 0   index               73582 non-null  int64 \n",
      " 1   Page ID             73582 non-null  int64 \n",
      " 2   Page name           73582 non-null  object\n",
      " 3   Disclaimer          73582 non-null  object\n",
      " 4   Amount spent (USD)  73582 non-null  object\n",
      " 5   State               73582 non-null  object\n",
      "dtypes: int64(2), object(4)\n",
      "memory usage: 3.4+ MB\n"
     ]
    }
   ],
   "source": [
    "# initialize dataframe\n",
    "df = pd.DataFrame()\n",
    "\n",
    "# loop through files\n",
    "for x in filenames:\n",
    "    filename = pd.read_csv(x)\n",
    "    print(x)\n",
    "    st = x.split('_')[6] #uses last position after underscore\n",
    "    st = st.split('.')[0] #st object contains Alabama.csv - only need the state\n",
    "    filename['State'] = st\n",
    "    print(st)\n",
    "    df = df.append(filename)\n",
    "\n",
    "df = df.reset_index() \n",
    "df.info()"
   ]
  },
  {
   "cell_type": "code",
   "execution_count": 4,
   "metadata": {},
   "outputs": [
    {
     "name": "stdout",
     "output_type": "stream",
     "text": [
      "<class 'pandas.core.frame.DataFrame'>\n",
      "RangeIndex: 73582 entries, 0 to 73581\n",
      "Data columns (total 6 columns):\n",
      " #   Column      Non-Null Count  Dtype \n",
      "---  ------      --------------  ----- \n",
      " 0   index       73582 non-null  int64 \n",
      " 1   Page ID     73582 non-null  int64 \n",
      " 2   Page name   73582 non-null  object\n",
      " 3   Disclaimer  73582 non-null  object\n",
      " 4   Amount      73582 non-null  object\n",
      " 5   State       73582 non-null  object\n",
      "dtypes: int64(2), object(4)\n",
      "memory usage: 3.4+ MB\n"
     ]
    }
   ],
   "source": [
    "# shorten column name\n",
    "df = df.rename(columns = {'Amount spent (USD)': 'Amount'})\n",
    "df.info()"
   ]
  },
  {
   "cell_type": "markdown",
   "metadata": {},
   "source": [
    "### Seven files read in - all data appended"
   ]
  },
  {
   "cell_type": "code",
   "execution_count": 5,
   "metadata": {},
   "outputs": [
    {
     "data": {
      "text/plain": [
       "California        15892\n",
       "Arizona           12719\n",
       "Alabama           12200\n",
       "Colorado          12086\n",
       "Arkansas          11374\n",
       "Alaska             9217\n",
       "American Samoa       94\n",
       "Name: State, dtype: int64"
      ]
     },
     "execution_count": 5,
     "metadata": {},
     "output_type": "execute_result"
    }
   ],
   "source": [
    "# check by state\n",
    "df['State'].value_counts()"
   ]
  },
  {
   "cell_type": "code",
   "execution_count": 6,
   "metadata": {},
   "outputs": [
    {
     "data": {
      "text/html": [
       "<div>\n",
       "<style scoped>\n",
       "    .dataframe tbody tr th:only-of-type {\n",
       "        vertical-align: middle;\n",
       "    }\n",
       "\n",
       "    .dataframe tbody tr th {\n",
       "        vertical-align: top;\n",
       "    }\n",
       "\n",
       "    .dataframe thead th {\n",
       "        text-align: right;\n",
       "    }\n",
       "</style>\n",
       "<table border=\"1\" class=\"dataframe\">\n",
       "  <thead>\n",
       "    <tr style=\"text-align: right;\">\n",
       "      <th></th>\n",
       "      <th>index</th>\n",
       "      <th>Page ID</th>\n",
       "      <th>Page name</th>\n",
       "      <th>Disclaimer</th>\n",
       "      <th>Amount</th>\n",
       "      <th>State</th>\n",
       "    </tr>\n",
       "  </thead>\n",
       "  <tbody>\n",
       "    <tr>\n",
       "      <th>0</th>\n",
       "      <td>0</td>\n",
       "      <td>109418838263843</td>\n",
       "      <td>Lew Burdette for Governor</td>\n",
       "      <td>LEWin22 For Governor</td>\n",
       "      <td>74666</td>\n",
       "      <td>Alabama</td>\n",
       "    </tr>\n",
       "    <tr>\n",
       "      <th>1</th>\n",
       "      <td>1</td>\n",
       "      <td>101828156534504</td>\n",
       "      <td>He Gets Us</td>\n",
       "      <td>He Gets Us LLC</td>\n",
       "      <td>48549</td>\n",
       "      <td>Alabama</td>\n",
       "    </tr>\n",
       "    <tr>\n",
       "      <th>2</th>\n",
       "      <td>2</td>\n",
       "      <td>945443118979935</td>\n",
       "      <td>Safe Surgery Coalition</td>\n",
       "      <td>Safe Surgery Coalition</td>\n",
       "      <td>46837</td>\n",
       "      <td>Alabama</td>\n",
       "    </tr>\n",
       "    <tr>\n",
       "      <th>3</th>\n",
       "      <td>3</td>\n",
       "      <td>111687831420243</td>\n",
       "      <td>Brian Christine for State Senate</td>\n",
       "      <td>Christine For Senate</td>\n",
       "      <td>44316</td>\n",
       "      <td>Alabama</td>\n",
       "    </tr>\n",
       "    <tr>\n",
       "      <th>4</th>\n",
       "      <td>4</td>\n",
       "      <td>106057494680860</td>\n",
       "      <td>Greg Cook for Supreme Court</td>\n",
       "      <td>Greg Cook for Alabama Supreme Court</td>\n",
       "      <td>40192</td>\n",
       "      <td>Alabama</td>\n",
       "    </tr>\n",
       "  </tbody>\n",
       "</table>\n",
       "</div>"
      ],
      "text/plain": [
       "   index          Page ID                         Page name  \\\n",
       "0      0  109418838263843         Lew Burdette for Governor   \n",
       "1      1  101828156534504                        He Gets Us   \n",
       "2      2  945443118979935            Safe Surgery Coalition   \n",
       "3      3  111687831420243  Brian Christine for State Senate   \n",
       "4      4  106057494680860       Greg Cook for Supreme Court   \n",
       "\n",
       "                            Disclaimer Amount    State  \n",
       "0                 LEWin22 For Governor  74666  Alabama  \n",
       "1                       He Gets Us LLC  48549  Alabama  \n",
       "2               Safe Surgery Coalition  46837  Alabama  \n",
       "3                 Christine For Senate  44316  Alabama  \n",
       "4  Greg Cook for Alabama Supreme Court  40192  Alabama  "
      ]
     },
     "execution_count": 6,
     "metadata": {},
     "output_type": "execute_result"
    }
   ],
   "source": [
    "# check data\n",
    "df.head()"
   ]
  },
  {
   "cell_type": "code",
   "execution_count": 7,
   "metadata": {},
   "outputs": [],
   "source": [
    "# can write out file for later use\n",
    "df.to_csv('facebook_may2022_final.csv', header = True, index = False)"
   ]
  }
 ],
 "metadata": {
  "kernelspec": {
   "display_name": "Python 3",
   "language": "python",
   "name": "python3"
  },
  "language_info": {
   "codemirror_mode": {
    "name": "ipython",
    "version": 3
   },
   "file_extension": ".py",
   "mimetype": "text/x-python",
   "name": "python",
   "nbconvert_exporter": "python",
   "pygments_lexer": "ipython3",
   "version": "3.8.3"
  }
 },
 "nbformat": 4,
 "nbformat_minor": 1
}
